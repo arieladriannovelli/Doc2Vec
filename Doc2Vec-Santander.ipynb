{
 "cells": [
  {
   "cell_type": "markdown",
   "metadata": {},
   "source": [
    "### Doc2Vec\n",
    "\n",
    "Doc2vec is an adaptation of Word2Vec that allows us to learn document similarity. Doc2vec model by itself is an unsupervised method."
   ]
  },
  {
   "cell_type": "code",
   "execution_count": 1,
   "metadata": {},
   "outputs": [
    {
     "name": "stderr",
     "output_type": "stream",
     "text": [
      "c:\\users\\ariel.novelli\\anaconda3\\envs\\env\\lib\\site-packages\\tqdm\\std.py:668: FutureWarning: The Panel class is removed from pandas. Accessing it from the top-level namespace will also be removed in the next version\n",
      "  from pandas import Panel\n"
     ]
    }
   ],
   "source": [
    "import pandas as pd\n",
    "import numpy as np\n",
    "from tqdm import tqdm\n",
    "tqdm.pandas(desc=\"progress-bar\")\n",
    "from gensim.models import Doc2Vec\n",
    "from sklearn import utils\n",
    "from sklearn.model_selection import train_test_split\n",
    "import gensim\n",
    "from sklearn.linear_model import LogisticRegression\n",
    "from gensim.models.doc2vec import TaggedDocument\n",
    "import re\n",
    "import seaborn as sns\n",
    "import matplotlib.pyplot as plt"
   ]
  },
  {
   "cell_type": "code",
   "execution_count": 2,
   "metadata": {},
   "outputs": [],
   "source": [
    "columns = ['Pregunta', 'Intencion']\n",
    "df_train = pd.read_csv('data/train.csv', usecols=columns, sep='|')\n",
    "df_test = pd.read_csv('data/test_santander.csv', usecols=['id','Pregunta'])\n",
    "df_train.head(10)\n",
    "\n",
    "df_train['Intencion'] = df_train['Intencion'].str[4:]\n",
    "df_train['Intencion'] = df_train['Intencion'].astype('int32')\n",
    "#df_train['Intencion_encoded'] = labelEncoder(df_train, 'Intencion')\n",
    "#df_train['Pregunta_encoded'] = labelEncoder(df_train, 'Pregunta')\n",
    "#print('Train Shape: ' + str(df_train.shape))\n",
    "#print('Test Shape: ' + str(df_test.shape))"
   ]
  },
  {
   "cell_type": "code",
   "execution_count": 3,
   "metadata": {},
   "outputs": [
    {
     "data": {
      "text/plain": [
       "(20104, 2)"
      ]
     },
     "execution_count": 3,
     "metadata": {},
     "output_type": "execute_result"
    }
   ],
   "source": [
    "df_train.shape"
   ]
  },
  {
   "cell_type": "code",
   "execution_count": 4,
   "metadata": {},
   "outputs": [
    {
     "data": {
      "text/plain": [
       "Pregunta     0\n",
       "Intencion    0\n",
       "dtype: int64"
      ]
     },
     "execution_count": 4,
     "metadata": {},
     "output_type": "execute_result"
    }
   ],
   "source": [
    "df_train.isnull().sum()"
   ]
  },
  {
   "cell_type": "code",
   "execution_count": 5,
   "metadata": {},
   "outputs": [
    {
     "data": {
      "image/png": "[encoded data removed]",
      "text/plain": [
       "<Figure size 864x288 with 1 Axes>"
      ]
     },
     "metadata": {
      "needs_background": "light"
     },
     "output_type": "display_data"
    }
   ],
   "source": [
    "cnt_pro = df_train['Intencion'].value_counts()\n",
    "\n",
    "plt.figure(figsize=(12,4))\n",
    "sns.barplot(cnt_pro.index, cnt_pro.values, alpha=0.8)\n",
    "plt.ylabel('Number of Occurrences', fontsize=12)\n",
    "plt.xlabel('Intencion', fontsize=12)\n",
    "plt.xticks(rotation=90)\n",
    "plt.show();"
   ]
  },
  {
   "cell_type": "markdown",
   "metadata": {},
   "source": [
    "The classes are imbalanced. However, a naive classifier that predicts everything to be Debt collection will only achieve over 20% accuracy."
   ]
  },
  {
   "cell_type": "markdown",
   "metadata": {},
   "source": [
    "### Text preprocessing\n",
    "\n",
    "Below we define a function to convert text to lower-case and strip punctuation/symbols from words and so on."
   ]
  },
  {
   "cell_type": "code",
   "execution_count": 6,
   "metadata": {},
   "outputs": [],
   "source": [
    "from bs4 import BeautifulSoup\n",
    "def cleanText(text):\n",
    "    text = BeautifulSoup(text, \"lxml\").text\n",
    "    text = re.sub(r'\\|\\|\\|', r' ', text) \n",
    "    text = re.sub(r'http\\S+', r'<URL>', text)\n",
    "    text = text.lower()\n",
    "    text = text.replace('x', '')\n",
    "    return text"
   ]
  },
  {
   "cell_type": "code",
   "execution_count": 7,
   "metadata": {},
   "outputs": [],
   "source": [
    "df_train['Pregunta'] = df_train['Pregunta'].apply(cleanText)\n",
    "df_test['Pregunta'] = df_test['Pregunta'].apply(cleanText)"
   ]
  },
  {
   "cell_type": "code",
   "execution_count": 8,
   "metadata": {},
   "outputs": [
    {
     "data": {
      "text/plain": [
       "'pagar tarjeta visa querer reintegro'"
      ]
     },
     "execution_count": 8,
     "metadata": {},
     "output_type": "execute_result"
    }
   ],
   "source": [
    "df_train['Pregunta'][1]"
   ]
  },
  {
   "cell_type": "code",
   "execution_count": 9,
   "metadata": {},
   "outputs": [
    {
     "data": {
      "text/plain": [
       "(20104, 2)"
      ]
     },
     "execution_count": 9,
     "metadata": {},
     "output_type": "execute_result"
    }
   ],
   "source": [
    "df_train.shape"
   ]
  },
  {
   "cell_type": "markdown",
   "metadata": {},
   "source": [
    "Re-arrange the index of the table. "
   ]
  },
  {
   "cell_type": "code",
   "execution_count": 10,
   "metadata": {},
   "outputs": [],
   "source": [
    "df_train.index = range(20104)"
   ]
  },
  {
   "cell_type": "code",
   "execution_count": 11,
   "metadata": {},
   "outputs": [
    {
     "data": {
      "text/html": [
       "<div>\n",
       "<style scoped>\n",
       "    .dataframe tbody tr th:only-of-type {\n",
       "        vertical-align: middle;\n",
       "    }\n",
       "\n",
       "    .dataframe tbody tr th {\n",
       "        vertical-align: top;\n",
       "    }\n",
       "\n",
       "    .dataframe thead th {\n",
       "        text-align: right;\n",
       "    }\n",
       "</style>\n",
       "<table border=\"1\" class=\"dataframe\">\n",
       "  <thead>\n",
       "    <tr style=\"text-align: right;\">\n",
       "      <th></th>\n",
       "      <th>Pregunta</th>\n",
       "      <th>Intencion</th>\n",
       "    </tr>\n",
       "  </thead>\n",
       "  <tbody>\n",
       "    <tr>\n",
       "      <th>0</th>\n",
       "      <td>como puedo trabajar en santander rio</td>\n",
       "      <td>102</td>\n",
       "    </tr>\n",
       "    <tr>\n",
       "      <th>1</th>\n",
       "      <td>pagar tarjeta visa querer reintegro</td>\n",
       "      <td>350</td>\n",
       "    </tr>\n",
       "    <tr>\n",
       "      <th>2</th>\n",
       "      <td>pagar tarjeta naranja sistema</td>\n",
       "      <td>132</td>\n",
       "    </tr>\n",
       "    <tr>\n",
       "      <th>3</th>\n",
       "      <td>no se debitó la primera cuota del plan de bien...</td>\n",
       "      <td>129</td>\n",
       "    </tr>\n",
       "    <tr>\n",
       "      <th>4</th>\n",
       "      <td>abonar tarjeta credito</td>\n",
       "      <td>342</td>\n",
       "    </tr>\n",
       "    <tr>\n",
       "      <th>5</th>\n",
       "      <td>se puede pagar la mastercard desde uno de los ...</td>\n",
       "      <td>342</td>\n",
       "    </tr>\n",
       "    <tr>\n",
       "      <th>6</th>\n",
       "      <td>informar que vamos a viajar al eterior</td>\n",
       "      <td>304</td>\n",
       "    </tr>\n",
       "    <tr>\n",
       "      <th>7</th>\n",
       "      <td>pasar preguntar seguridad</td>\n",
       "      <td>1</td>\n",
       "    </tr>\n",
       "    <tr>\n",
       "      <th>8</th>\n",
       "      <td>olvide mi contraseña de hombamnkin</td>\n",
       "      <td>1</td>\n",
       "    </tr>\n",
       "    <tr>\n",
       "      <th>9</th>\n",
       "      <td>como doy de baja la tarjeta por telefono no es...</td>\n",
       "      <td>338</td>\n",
       "    </tr>\n",
       "  </tbody>\n",
       "</table>\n",
       "</div>"
      ],
      "text/plain": [
       "                                            Pregunta  Intencion\n",
       "0               como puedo trabajar en santander rio        102\n",
       "1                pagar tarjeta visa querer reintegro        350\n",
       "2                      pagar tarjeta naranja sistema        132\n",
       "3  no se debitó la primera cuota del plan de bien...        129\n",
       "4                             abonar tarjeta credito        342\n",
       "5  se puede pagar la mastercard desde uno de los ...        342\n",
       "6             informar que vamos a viajar al eterior        304\n",
       "7                          pasar preguntar seguridad          1\n",
       "8                 olvide mi contraseña de hombamnkin          1\n",
       "9  como doy de baja la tarjeta por telefono no es...        338"
      ]
     },
     "execution_count": 11,
     "metadata": {},
     "output_type": "execute_result"
    }
   ],
   "source": [
    "df_train.head(10)"
   ]
  },
  {
   "cell_type": "code",
   "execution_count": 12,
   "metadata": {},
   "outputs": [
    {
     "data": {
      "text/html": [
       "<div>\n",
       "<style scoped>\n",
       "    .dataframe tbody tr th:only-of-type {\n",
       "        vertical-align: middle;\n",
       "    }\n",
       "\n",
       "    .dataframe tbody tr th {\n",
       "        vertical-align: top;\n",
       "    }\n",
       "\n",
       "    .dataframe thead th {\n",
       "        text-align: right;\n",
       "    }\n",
       "</style>\n",
       "<table border=\"1\" class=\"dataframe\">\n",
       "  <thead>\n",
       "    <tr style=\"text-align: right;\">\n",
       "      <th></th>\n",
       "      <th>id</th>\n",
       "      <th>Pregunta</th>\n",
       "    </tr>\n",
       "  </thead>\n",
       "  <tbody>\n",
       "    <tr>\n",
       "      <th>0</th>\n",
       "      <td>0</td>\n",
       "      <td>querer saber tarjeta sin limite</td>\n",
       "    </tr>\n",
       "    <tr>\n",
       "      <th>1</th>\n",
       "      <td>1</td>\n",
       "      <td>¿cuál es el límite de mi tarjeta santander?</td>\n",
       "    </tr>\n",
       "    <tr>\n",
       "      <th>2</th>\n",
       "      <td>2</td>\n",
       "      <td>hay beneficios en restaurantes de la costa atl...</td>\n",
       "    </tr>\n",
       "    <tr>\n",
       "      <th>3</th>\n",
       "      <td>3</td>\n",
       "      <td>semana realizar pagar afip monotributo volver ...</td>\n",
       "    </tr>\n",
       "    <tr>\n",
       "      <th>4</th>\n",
       "      <td>4</td>\n",
       "      <td>por un prestamo de mil. cuanto es el interes?</td>\n",
       "    </tr>\n",
       "    <tr>\n",
       "      <th>...</th>\n",
       "      <td>...</td>\n",
       "      <td>...</td>\n",
       "    </tr>\n",
       "    <tr>\n",
       "      <th>6697</th>\n",
       "      <td>6697</td>\n",
       "      <td>denunciar un cobro de tarjeta de credito</td>\n",
       "    </tr>\n",
       "    <tr>\n",
       "      <th>6698</th>\n",
       "      <td>6698</td>\n",
       "      <td>quiero pagar deuda refinanciada</td>\n",
       "    </tr>\n",
       "    <tr>\n",
       "      <th>6699</th>\n",
       "      <td>6699</td>\n",
       "      <td>quiero pagar de mi open credit un poquito mas ...</td>\n",
       "    </tr>\n",
       "    <tr>\n",
       "      <th>6700</th>\n",
       "      <td>6700</td>\n",
       "      <td>nesecito imprimir mi resumen tarjeta de credit...</td>\n",
       "    </tr>\n",
       "    <tr>\n",
       "      <th>6701</th>\n",
       "      <td>6701</td>\n",
       "      <td>quiero obtener una visa credito</td>\n",
       "    </tr>\n",
       "  </tbody>\n",
       "</table>\n",
       "<p>6702 rows × 2 columns</p>\n",
       "</div>"
      ],
      "text/plain": [
       "        id                                           Pregunta\n",
       "0        0                    querer saber tarjeta sin limite\n",
       "1        1        ¿cuál es el límite de mi tarjeta santander?\n",
       "2        2  hay beneficios en restaurantes de la costa atl...\n",
       "3        3  semana realizar pagar afip monotributo volver ...\n",
       "4        4      por un prestamo de mil. cuanto es el interes?\n",
       "...    ...                                                ...\n",
       "6697  6697           denunciar un cobro de tarjeta de credito\n",
       "6698  6698                    quiero pagar deuda refinanciada\n",
       "6699  6699  quiero pagar de mi open credit un poquito mas ...\n",
       "6700  6700  nesecito imprimir mi resumen tarjeta de credit...\n",
       "6701  6701                    quiero obtener una visa credito\n",
       "\n",
       "[6702 rows x 2 columns]"
      ]
     },
     "execution_count": 12,
     "metadata": {},
     "output_type": "execute_result"
    }
   ],
   "source": [
    "df_test"
   ]
  },
  {
   "cell_type": "code",
   "execution_count": 13,
   "metadata": {},
   "outputs": [],
   "source": [
    "df_train.rename(columns = {'Pregunta':'narrative'}, inplace = True)\n",
    "df_test.rename(columns = {'Pregunta':'narrative'}, inplace = True)\n"
   ]
  },
  {
   "cell_type": "code",
   "execution_count": 14,
   "metadata": {},
   "outputs": [
    {
     "data": {
      "text/html": [
       "<div>\n",
       "<style scoped>\n",
       "    .dataframe tbody tr th:only-of-type {\n",
       "        vertical-align: middle;\n",
       "    }\n",
       "\n",
       "    .dataframe tbody tr th {\n",
       "        vertical-align: top;\n",
       "    }\n",
       "\n",
       "    .dataframe thead th {\n",
       "        text-align: right;\n",
       "    }\n",
       "</style>\n",
       "<table border=\"1\" class=\"dataframe\">\n",
       "  <thead>\n",
       "    <tr style=\"text-align: right;\">\n",
       "      <th></th>\n",
       "      <th>narrative</th>\n",
       "      <th>Intencion</th>\n",
       "    </tr>\n",
       "  </thead>\n",
       "  <tbody>\n",
       "    <tr>\n",
       "      <th>0</th>\n",
       "      <td>como puedo trabajar en santander rio</td>\n",
       "      <td>102</td>\n",
       "    </tr>\n",
       "    <tr>\n",
       "      <th>1</th>\n",
       "      <td>pagar tarjeta visa querer reintegro</td>\n",
       "      <td>350</td>\n",
       "    </tr>\n",
       "    <tr>\n",
       "      <th>2</th>\n",
       "      <td>pagar tarjeta naranja sistema</td>\n",
       "      <td>132</td>\n",
       "    </tr>\n",
       "    <tr>\n",
       "      <th>3</th>\n",
       "      <td>no se debitó la primera cuota del plan de bien...</td>\n",
       "      <td>129</td>\n",
       "    </tr>\n",
       "    <tr>\n",
       "      <th>4</th>\n",
       "      <td>abonar tarjeta credito</td>\n",
       "      <td>342</td>\n",
       "    </tr>\n",
       "  </tbody>\n",
       "</table>\n",
       "</div>"
      ],
      "text/plain": [
       "                                           narrative  Intencion\n",
       "0               como puedo trabajar en santander rio        102\n",
       "1                pagar tarjeta visa querer reintegro        350\n",
       "2                      pagar tarjeta naranja sistema        132\n",
       "3  no se debitó la primera cuota del plan de bien...        129\n",
       "4                             abonar tarjeta credito        342"
      ]
     },
     "execution_count": 14,
     "metadata": {},
     "output_type": "execute_result"
    }
   ],
   "source": [
    "df_train.head()"
   ]
  },
  {
   "cell_type": "markdown",
   "metadata": {},
   "source": [
    "Below, we define a function to label each complaint narrative. And the TaggedDocument is an object-type to encapsulate a text-example function that helps to associate a tag/number with each document of the training corpus. In our case, the tag is simply the zero based line number."
   ]
  },
  {
   "cell_type": "code",
   "execution_count": 15,
   "metadata": {},
   "outputs": [],
   "source": [
    "from gensim.models import doc2vec\n",
    "\n",
    "def label_sentences(corpus, label_type):\n",
    "    \"\"\"\n",
    "    Gensim's Doc2Vec implementation requires each document/paragraph to have a label associated with it.\n",
    "    We do this by using the TaggedDocument method. The format will be \"TRAIN_i\" or \"TEST_i\" where \"i\" is\n",
    "    a dummy index of the complaint narrative.\n",
    "    \"\"\"\n",
    "    labeled = []\n",
    "    for i, v in enumerate(corpus):\n",
    "        label = label_type + '_' + str(i)\n",
    "        labeled.append(doc2vec.TaggedDocument(v.split(), [label]))\n",
    "    return labeled"
   ]
  },
  {
   "cell_type": "code",
   "execution_count": 16,
   "metadata": {},
   "outputs": [],
   "source": [
    "X_train, X_test, y_train, y_test = train_test_split(df_train.narrative, df_train.Intencion, random_state=0, test_size=0.2)\n",
    "X_train = label_sentences(X_train, 'Train')\n",
    "X_test = label_sentences(X_test, 'Test')\n",
    "all_data = X_train + X_test"
   ]
  },
  {
   "cell_type": "code",
   "execution_count": 17,
   "metadata": {},
   "outputs": [],
   "source": [
    "X_train2, X_test2, y_train2, y_test2 = train_test_split(df_test.narrative, df_test.id, random_state=0, test_size=0.2)\n",
    "X_train2 = label_sentences(X_train2, 'Train')\n",
    "X_test2 = label_sentences(X_test2, 'Test')\n",
    "all_data2 = X_train2 + X_test2"
   ]
  },
  {
   "cell_type": "code",
   "execution_count": 18,
   "metadata": {},
   "outputs": [
    {
     "data": {
      "text/plain": [
       "20104"
      ]
     },
     "execution_count": 18,
     "metadata": {},
     "output_type": "execute_result"
    }
   ],
   "source": [
    "len(all_data)"
   ]
  },
  {
   "cell_type": "markdown",
   "metadata": {},
   "source": [
    "Let's take a look at the training corpus."
   ]
  },
  {
   "cell_type": "code",
   "execution_count": 19,
   "metadata": {},
   "outputs": [
    {
     "data": {
      "text/plain": [
       "[TaggedDocument(words=['como', 'utilizar', 'autoservicio'], tags=['Train_0']),\n",
       " TaggedDocument(words=['necesito', 'hacer', 'una', 'certificacion', 'de', 'mi', 'firma'], tags=['Train_1'])]"
      ]
     },
     "execution_count": 19,
     "metadata": {},
     "output_type": "execute_result"
    }
   ],
   "source": [
    "all_data[:2]"
   ]
  },
  {
   "cell_type": "code",
   "execution_count": 20,
   "metadata": {},
   "outputs": [
    {
     "data": {
      "text/plain": [
       "[TaggedDocument(words=['hacer', 'una', 'simulación', 'de', 'préstamo'], tags=['Train_0']),\n",
       " TaggedDocument(words=['necesito', 'descargar', 'la', 'boleta', 'de', 'la', 'tarjeta', 'santander'], tags=['Train_1'])]"
      ]
     },
     "execution_count": 20,
     "metadata": {},
     "output_type": "execute_result"
    }
   ],
   "source": [
    "all_data2[:2]"
   ]
  },
  {
   "cell_type": "markdown",
   "metadata": {},
   "source": [
    "### Training the model\n",
    "\n",
    "We'll instantiate a Doc2Vec model-Distributed Bag of Words (DBOW). In the Word2Vec architecture, the two algorithm names are “continuous bag of words” (cbow) and “skip-gram” (sg); in the Doc2Vec architecture, the corresponding algorithms are “distributed bag of words” (dbow) and “distributed memory” (dm)."
   ]
  },
  {
   "cell_type": "markdown",
   "metadata": {},
   "source": [
    "### DBOW\n",
    "\n",
    "DBOW is the Doc2Vec model analogous to Skip-gram model in Word2Vec. The paragraph vectors are obtained by training a neural network on the task of predicting a probability distribution of words in a paragraph given a randomly-sampled word from the paragraph.\n",
    "\n",
    "Training a Doc2Vec model is rather straight forward in Gensim, we initialize the model and train for 30 epochs:"
   ]
  },
  {
   "cell_type": "markdown",
   "metadata": {},
   "source": [
    "dm =0 means ‘distributed bag of words’ (DBOW), set min_count=2 means ignoring all words with total frequency lower than this, size=100 is dimensionality of the generated feature vectors, alpha=0.025 is the initial alpha rate, learning rate will linearly drop to min_alpha as training progresses. And then we build a vocabulary."
   ]
  },
  {
   "cell_type": "code",
   "execution_count": 21,
   "metadata": {},
   "outputs": [
    {
     "name": "stderr",
     "output_type": "stream",
     "text": [
      "100%|███████████████████████████████████████████████████████████████████████| 26806/26806 [00:00<00:00, 1559396.85it/s]\n"
     ]
    }
   ],
   "source": [
    "model_dbow = Doc2Vec(dm=0, vector_size=300, negative=5, min_count=1, alpha=0.065, min_alpha=0.065)\n",
    "#model_dbow.build_vocab([x for x in tqdm(all_data)])\n",
    "model_dbow.build_vocab([x for x in tqdm(all_data+all_data2)])\n"
   ]
  },
  {
   "cell_type": "code",
   "execution_count": 22,
   "metadata": {},
   "outputs": [
    {
     "name": "stderr",
     "output_type": "stream",
     "text": [
      "100%|███████████████████████████████████████████████████████████████████████| 20104/20104 [00:00<00:00, 3017221.44it/s]\n",
      "100%|███████████████████████████████████████████████████████████████████████| 20104/20104 [00:00<00:00, 4032244.05it/s]\n",
      "100%|███████████████████████████████████████████████████████████████████████| 20104/20104 [00:00<00:00, 3521792.91it/s]\n",
      "100%|███████████████████████████████████████████████████████████████████████| 20104/20104 [00:00<00:00, 4035331.53it/s]\n",
      "100%|███████████████████████████████████████████████████████████████████████| 20104/20104 [00:00<00:00, 3960280.28it/s]\n",
      "100%|███████████████████████████████████████████████████████████████████████| 20104/20104 [00:00<00:00, 3413443.21it/s]\n",
      "100%|███████████████████████████████████████████████████████████████████████| 20104/20104 [00:00<00:00, 3963258.49it/s]\n",
      "100%|███████████████████████████████████████████████████████████████████████| 20104/20104 [00:00<00:00, 3117044.49it/s]\n",
      "100%|███████████████████████████████████████████████████████████████████████| 20104/20104 [00:00<00:00, 4029738.95it/s]\n",
      "100%|███████████████████████████████████████████████████████████████████████| 20104/20104 [00:00<00:00, 4031280.18it/s]\n",
      "100%|███████████████████████████████████████████████████████████████████████| 20104/20104 [00:00<00:00, 2345021.63it/s]\n",
      "100%|███████████████████████████████████████████████████████████████████████| 20104/20104 [00:00<00:00, 3931108.98it/s]\n",
      "100%|███████████████████████████████████████████████████████████████████████| 20104/20104 [00:00<00:00, 3548917.83it/s]\n",
      "100%|███████████████████████████████████████████████████████████████████████| 20104/20104 [00:00<00:00, 3209343.37it/s]\n",
      "100%|███████████████████████████████████████████████████████████████████████| 20104/20104 [00:00<00:00, 3701105.54it/s]\n",
      "100%|███████████████████████████████████████████████████████████████████████| 20104/20104 [00:00<00:00, 3352374.97it/s]\n",
      "100%|███████████████████████████████████████████████████████████████████████| 20104/20104 [00:00<00:00, 3448905.38it/s]\n",
      "100%|███████████████████████████████████████████████████████████████████████| 20104/20104 [00:00<00:00, 4031665.68it/s]\n",
      "100%|███████████████████████████████████████████████████████████████████████| 20104/20104 [00:00<00:00, 3607370.59it/s]\n",
      "100%|███████████████████████████████████████████████████████████████████████| 20104/20104 [00:00<00:00, 3736861.85it/s]\n",
      "100%|███████████████████████████████████████████████████████████████████████| 20104/20104 [00:00<00:00, 4003907.29it/s]\n",
      "100%|███████████████████████████████████████████████████████████████████████| 20104/20104 [00:00<00:00, 3465204.55it/s]\n",
      "100%|███████████████████████████████████████████████████████████████████████| 20104/20104 [00:00<00:00, 3670495.26it/s]\n",
      "100%|███████████████████████████████████████████████████████████████████████| 20104/20104 [00:00<00:00, 3518853.55it/s]\n",
      "100%|███████████████████████████████████████████████████████████████████████| 20104/20104 [00:00<00:00, 2966587.66it/s]\n",
      "100%|███████████████████████████████████████████████████████████████████████| 20104/20104 [00:00<00:00, 3239676.03it/s]\n",
      "100%|███████████████████████████████████████████████████████████████████████| 20104/20104 [00:00<00:00, 3391067.63it/s]\n",
      "100%|███████████████████████████████████████████████████████████████████████| 20104/20104 [00:00<00:00, 3080266.21it/s]\n",
      "100%|███████████████████████████████████████████████████████████████████████| 20104/20104 [00:00<00:00, 3359453.69it/s]\n",
      "100%|███████████████████████████████████████████████████████████████████████| 20104/20104 [00:00<00:00, 2879761.20it/s]\n"
     ]
    },
    {
     "name": "stdout",
     "output_type": "stream",
     "text": [
      "Wall time: 16.3 s\n"
     ]
    }
   ],
   "source": [
    "%%time\n",
    "for epoch in range(30):\n",
    "    model_dbow.train(utils.shuffle([x for x in tqdm(all_data)]), total_examples=len(all_data), epochs=1)\n",
    "    #model_dbow.train(utils.shuffle([x for x in tqdm(all_data+all_data2)]), total_examples=len(all_data+all_data2), epochs=1)\n",
    "    model_dbow.alpha -= 0.002\n",
    "    model_dbow.min_alpha = model_dbow.alpha"
   ]
  },
  {
   "cell_type": "markdown",
   "metadata": {},
   "source": [
    "Define a function to get the vectors."
   ]
  },
  {
   "cell_type": "code",
   "execution_count": 25,
   "metadata": {},
   "outputs": [],
   "source": [
    "def get_vectors(model, corpus_size, vectors_size, vectors_type):\n",
    "    \"\"\"\n",
    "    Get vectors from trained doc2vec model\n",
    "    :param doc2vec_model: Trained Doc2Vec model\n",
    "    :param corpus_size: Size of the data\n",
    "    :param vectors_size: Size of the embedding vectors\n",
    "    :param vectors_type: Training or Testing vectors\n",
    "    :return: list of vectors\n",
    "    \"\"\"\n",
    "    vectors = np.zeros((corpus_size, vectors_size))\n",
    "    for i in range(0, corpus_size):\n",
    "        prefix = vectors_type + '_' + str(i)\n",
    "        vectors[i] = model.docvecs[prefix]\n",
    "    return vectors"
   ]
  },
  {
   "cell_type": "code",
   "execution_count": 26,
   "metadata": {},
   "outputs": [],
   "source": [
    "train_vectors_dbow = get_vectors(model_dbow, len(X_train), 300, 'Train')\n",
    "test_vectors_dbow = get_vectors(model_dbow, len(X_test), 300, 'Test')"
   ]
  },
  {
   "cell_type": "code",
   "execution_count": 27,
   "metadata": {},
   "outputs": [],
   "source": [
    "#from sklearn.linear_model import LogisticRegression\n",
    "\n",
    "#logreg = LogisticRegression(multi_class='multinomial', max_iter=100)\n",
    "#logreg.fit(train_vectors_dbow, y_train)\n",
    "#logreg.score(test_vectors_dbow, y_test)\n"
   ]
  },
  {
   "cell_type": "code",
   "execution_count": 28,
   "metadata": {},
   "outputs": [
    {
     "data": {
      "text/plain": [
       "0.6550609301168864"
      ]
     },
     "execution_count": 28,
     "metadata": {},
     "output_type": "execute_result"
    }
   ],
   "source": [
    "from sklearn.svm import LinearSVC, SVC\n",
    "\n",
    "svc_1 = SVC(C=100, gamma=0.1, kernel=\"rbf\")\n",
    "#svc_1 = LinearSVC(C=1)\n",
    "\n",
    "svc_1.fit(train_vectors_dbow, y_train)\n",
    "svc_1.score(test_vectors_dbow, y_test)\n",
    "#svc_1.score(train_vectors_dbow, y_train)\n",
    "\n"
   ]
  },
  {
   "cell_type": "code",
   "execution_count": 30,
   "metadata": {},
   "outputs": [],
   "source": [
    "model_dbow.save('d2v_model_dbow.doc2vec')"
   ]
  },
  {
   "cell_type": "markdown",
   "metadata": {},
   "source": [
    "### Distributed Memory\n",
    "\n",
    "Distributed Memory (DM) acts as a memory that remembers what is missing from the current context — or as the topic of the paragraph. While the word vectors represent the concept of a word, the document vector intends to represent the concept of a document.\n",
    "\n",
    "We again instantiate a Doc2Vec model with a vector size with 100 words and iterating over the training corpus 30 times."
   ]
  },
  {
   "cell_type": "code",
   "execution_count": 31,
   "metadata": {},
   "outputs": [
    {
     "name": "stderr",
     "output_type": "stream",
     "text": [
      "100%|███████████████████████████████████████████████████████████████████████| 26806/26806 [00:00<00:00, 2687522.72it/s]\n"
     ]
    }
   ],
   "source": [
    "model_dm = Doc2Vec(dm=1, dm_mean=1, vector_size=300, window=10, negative=5, min_count=1, workers=5, alpha=0.065, min_alpha=0.065)\n",
    "model_dm.build_vocab([x for x in tqdm(all_data+all_data2)])"
   ]
  },
  {
   "cell_type": "code",
   "execution_count": 32,
   "metadata": {},
   "outputs": [
    {
     "name": "stderr",
     "output_type": "stream",
     "text": [
      "100%|███████████████████████████████████████████████████████████████████████| 20104/20104 [00:00<00:00, 1098676.04it/s]\n",
      "100%|███████████████████████████████████████████████████████████████████████| 20104/20104 [00:00<00:00, 3417870.68it/s]\n",
      "100%|███████████████████████████████████████████████████████████████████████| 20104/20104 [00:00<00:00, 2405153.82it/s]\n",
      "100%|███████████████████████████████████████████████████████████████████████| 20104/20104 [00:00<00:00, 4068626.66it/s]\n",
      "100%|███████████████████████████████████████████████████████████████████████| 20104/20104 [00:00<00:00, 3174784.93it/s]\n",
      "100%|███████████████████████████████████████████████████████████████████████| 20104/20104 [00:00<00:00, 4115088.95it/s]\n",
      "100%|███████████████████████████████████████████████████████████████████████| 20104/20104 [00:00<00:00, 4059225.32it/s]\n",
      "100%|███████████████████████████████████████████████████████████████████████| 20104/20104 [00:00<00:00, 3319513.72it/s]\n",
      "100%|███████████████████████████████████████████████████████████████████████| 20104/20104 [00:00<00:00, 3346786.57it/s]\n",
      "100%|███████████████████████████████████████████████████████████████████████| 20104/20104 [00:00<00:00, 4044816.41it/s]\n",
      "100%|███████████████████████████████████████████████████████████████████████| 20104/20104 [00:00<00:00, 3658868.68it/s]\n",
      "100%|███████████████████████████████████████████████████████████████████████| 20104/20104 [00:00<00:00, 4060789.19it/s]\n",
      "100%|███████████████████████████████████████████████████████████████████████| 20104/20104 [00:00<00:00, 4000677.88it/s]\n",
      "100%|███████████████████████████████████████████████████████████████████████| 20104/20104 [00:00<00:00, 3877243.32it/s]\n",
      "100%|███████████████████████████████████████████████████████████████████████| 20104/20104 [00:00<00:00, 4003337.02it/s]\n",
      "100%|███████████████████████████████████████████████████████████████████████| 20104/20104 [00:00<00:00, 4030124.15it/s]\n",
      "100%|███████████████████████████████████████████████████████████████████████| 20104/20104 [00:00<00:00, 3984796.92it/s]\n",
      "100%|███████████████████████████████████████████████████████████████████████| 20104/20104 [00:00<00:00, 3376132.59it/s]\n",
      "100%|███████████████████████████████████████████████████████████████████████| 20104/20104 [00:00<00:00, 3166201.85it/s]\n",
      "100%|███████████████████████████████████████████████████████████████████████| 20104/20104 [00:00<00:00, 3577374.21it/s]\n",
      "100%|███████████████████████████████████████████████████████████████████████| 20104/20104 [00:00<00:00, 2882025.01it/s]\n",
      "100%|███████████████████████████████████████████████████████████████████████| 20104/20104 [00:00<00:00, 3408613.78it/s]\n",
      "100%|███████████████████████████████████████████████████████████████████████| 20104/20104 [00:00<00:00, 3102251.12it/s]\n",
      "100%|███████████████████████████████████████████████████████████████████████| 20104/20104 [00:00<00:00, 3191366.57it/s]\n",
      "100%|███████████████████████████████████████████████████████████████████████| 20104/20104 [00:00<00:00, 3531971.50it/s]\n",
      "100%|███████████████████████████████████████████████████████████████████████| 20104/20104 [00:00<00:00, 3463069.84it/s]\n",
      "100%|███████████████████████████████████████████████████████████████████████| 20104/20104 [00:00<00:00, 3415655.51it/s]\n",
      "100%|███████████████████████████████████████████████████████████████████████| 20104/20104 [00:00<00:00, 3291782.00it/s]\n",
      "100%|███████████████████████████████████████████████████████████████████████| 20104/20104 [00:00<00:00, 3045225.27it/s]\n",
      "100%|███████████████████████████████████████████████████████████████████████| 20104/20104 [00:00<00:00, 2523410.57it/s]\n"
     ]
    },
    {
     "name": "stdout",
     "output_type": "stream",
     "text": [
      "Wall time: 33.9 s\n"
     ]
    }
   ],
   "source": [
    "%%time\n",
    "for epoch in range(30):\n",
    "    model_dm.train(utils.shuffle([x for x in tqdm(all_data)]), total_examples=len(all_data), epochs=1)\n",
    "    model_dm.alpha -= 0.002\n",
    "    model_dm.min_alpha = model_dm.alpha"
   ]
  },
  {
   "cell_type": "code",
   "execution_count": 33,
   "metadata": {},
   "outputs": [],
   "source": [
    "train_vectors_dm = get_vectors(model_dm, len(X_train), 300, 'Train')\n",
    "test_vectors_dm = get_vectors(model_dm, len(X_test), 300, 'Test')"
   ]
  },
  {
   "cell_type": "code",
   "execution_count": 34,
   "metadata": {},
   "outputs": [
    {
     "data": {
      "text/plain": [
       "0.43148470529718974"
      ]
     },
     "execution_count": 34,
     "metadata": {},
     "output_type": "execute_result"
    }
   ],
   "source": [
    "#logreg.fit(train_vectors_dm, y_train)\n",
    "svc_1.fit(train_vectors_dm, y_train)\n",
    "svc_1.score(test_vectors_dm, y_test)"
   ]
  },
  {
   "cell_type": "code",
   "execution_count": 35,
   "metadata": {},
   "outputs": [],
   "source": [
    "model_dm.save('d2v_model_dm.doc2vec')"
   ]
  },
  {
   "cell_type": "code",
   "execution_count": 36,
   "metadata": {},
   "outputs": [],
   "source": [
    "# model_dbow = Doc2Vec.load('d2v_model_dbow.doc2vec')\n",
    "# model_dm = Doc2Vec.load('d2v_model_dm.doc2vec')\n",
    "model_dbow.delete_temporary_training_data(keep_doctags_vectors=True, keep_inference=True)\n",
    "model_dm.delete_temporary_training_data(keep_doctags_vectors=True, keep_inference=True)"
   ]
  },
  {
   "cell_type": "code",
   "execution_count": 37,
   "metadata": {},
   "outputs": [],
   "source": [
    "def get_concat_vectors(model1,model2, corpus_size, vectors_size, vectors_type):\n",
    "    vectors = np.zeros((corpus_size, vectors_size))\n",
    "    for i in range(0, corpus_size):\n",
    "        prefix = vectors_type + '_' + str(i)\n",
    "        vectors[i] = np.append(model1.docvecs[prefix],model2.docvecs[prefix])\n",
    "    return vectors"
   ]
  },
  {
   "cell_type": "code",
   "execution_count": 38,
   "metadata": {},
   "outputs": [],
   "source": [
    "train_vecs_dbow_dm = get_concat_vectors(model_dbow,model_dm, len(X_train), 600, 'Train')\n",
    "test_vecs_dbow_dm = get_concat_vectors(model_dbow,model_dm, len(X_test), 600, 'Test')"
   ]
  },
  {
   "cell_type": "code",
   "execution_count": 39,
   "metadata": {},
   "outputs": [
    {
     "name": "stdout",
     "output_type": "stream",
     "text": [
      "Wall time: 4min 43s\n"
     ]
    },
    {
     "data": {
      "text/plain": [
       "SVC(C=100, gamma=0.1)"
      ]
     },
     "execution_count": 39,
     "metadata": {},
     "output_type": "execute_result"
    }
   ],
   "source": [
    "%%time\n",
    "svc_1 = SVC(C=100, gamma=0.1, kernel=\"rbf\")\n",
    "svc_1.fit(train_vecs_dbow_dm, y_train)\n",
    "#logreg = LogisticRegression()\n",
    "#logreg.fit(train_vecs_dbow_dm, y_train)"
   ]
  },
  {
   "cell_type": "code",
   "execution_count": 41,
   "metadata": {},
   "outputs": [
    {
     "data": {
      "text/plain": [
       "0.6272071623974136"
      ]
     },
     "execution_count": 41,
     "metadata": {},
     "output_type": "execute_result"
    }
   ],
   "source": [
    "svc_1.score(test_vecs_dbow_dm, y_test)"
   ]
  },
  {
   "cell_type": "code",
   "execution_count": null,
   "metadata": {},
   "outputs": [],
   "source": []
  }
 ],
 "metadata": {
  "kernelspec": {
   "display_name": "Python 3",
   "language": "python",
   "name": "python3"
  },
  "language_info": {
   "codemirror_mode": {
    "name": "ipython",
    "version": 3
   },
   "file_extension": ".py",
   "mimetype": "text/x-python",
   "name": "python",
   "nbconvert_exporter": "python",
   "pygments_lexer": "ipython3",
   "version": "3.7.7"
  }
 },
 "nbformat": 4,
 "nbformat_minor": 2
}
